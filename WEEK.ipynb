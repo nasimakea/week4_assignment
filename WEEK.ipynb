{
 "cells": [
  {
   "cell_type": "markdown",
   "id": "70124e9d-257a-4201-8d96-05c2026b23ee",
   "metadata": {},
   "source": [
    "## Q1. What is Abstraction in OOps? Explain with an example."
   ]
  },
  {
   "cell_type": "markdown",
   "id": "b46463fd-8a3f-435d-bc0c-8b3195ae8129",
   "metadata": {},
   "source": [
    "## ANS\n",
    "\n",
    "In abstraction, we define a class with certain methods and pass it to other,then they inherit the class in their subclass , and they use the methods of parent class as per their requirement. In this processes , we first import abc and then @abc.abstractmethod with each methods of class seprately.so that abstraction can work fine.\n",
    "Let's try to understand better with help of banking example."
   ]
  },
  {
   "cell_type": "code",
   "execution_count": 31,
   "id": "955acf5d-0f55-4f40-990e-8299e1df9c9b",
   "metadata": {},
   "outputs": [],
   "source": [
    "import abc\n",
    "\n",
    "class Bank:\n",
    "    @abc.abstractmethod\n",
    "    def intrest_rate(self):\n",
    "        pass\n",
    "    \n",
    "    @abc.abstractmethod\n",
    "    def emi_montly(self):\n",
    "        pass\n",
    "    \n",
    "    @abc.abstractmethod\n",
    "    def KYC(self):\n",
    "        pass"
   ]
  },
  {
   "cell_type": "code",
   "execution_count": 34,
   "id": "9ff8f8ff-6d93-4c77-8112-bfa55729b564",
   "metadata": {},
   "outputs": [],
   "source": [
    "class SBI(Bank):\n",
    "    def intrest_rate(self):\n",
    "        return 'we take intrest of 2.5'"
   ]
  },
  {
   "cell_type": "code",
   "execution_count": 38,
   "id": "2d0933ff-c42f-4ee3-a634-4ae05c164bc8",
   "metadata": {},
   "outputs": [],
   "source": [
    "SBI=SBI()"
   ]
  },
  {
   "cell_type": "code",
   "execution_count": 39,
   "id": "95cd2fc0-98a7-4422-9067-6d15da803321",
   "metadata": {},
   "outputs": [
    {
     "data": {
      "text/plain": [
       "'we take intrest of 2.5'"
      ]
     },
     "execution_count": 39,
     "metadata": {},
     "output_type": "execute_result"
    }
   ],
   "source": [
    "SBI.intrest_rate()"
   ]
  },
  {
   "cell_type": "code",
   "execution_count": 40,
   "id": "c8cae33f-2a36-4a36-b569-7f51ba8c3556",
   "metadata": {},
   "outputs": [],
   "source": [
    "class BOI(Bank):\n",
    "    def intrest_rate(self):\n",
    "        return 'we take 0.5 % intrest'"
   ]
  },
  {
   "cell_type": "code",
   "execution_count": 41,
   "id": "6c2b35ed-5c4b-484b-9fee-f89440724192",
   "metadata": {},
   "outputs": [],
   "source": [
    "BOI=BOI()"
   ]
  },
  {
   "cell_type": "code",
   "execution_count": 42,
   "id": "f481623a-b318-4b78-a099-9ee972a4c813",
   "metadata": {},
   "outputs": [
    {
     "data": {
      "text/plain": [
       "'we take 0.5 % intrest'"
      ]
     },
     "execution_count": 42,
     "metadata": {},
     "output_type": "execute_result"
    }
   ],
   "source": [
    "BOI.intrest_rate()"
   ]
  },
  {
   "cell_type": "code",
   "execution_count": null,
   "id": "ab2bb31b-fc01-45f7-9d56-eade604ee972",
   "metadata": {},
   "outputs": [],
   "source": []
  },
  {
   "cell_type": "code",
   "execution_count": null,
   "id": "f4b604d6-08cb-4acd-9622-607e9b430ee0",
   "metadata": {},
   "outputs": [],
   "source": []
  },
  {
   "cell_type": "code",
   "execution_count": null,
   "id": "e59a09f9-080a-462b-81b8-7515da6a184f",
   "metadata": {},
   "outputs": [],
   "source": []
  },
  {
   "cell_type": "code",
   "execution_count": null,
   "id": "c66465e8-3052-4088-bd53-3b8ed5cc10b9",
   "metadata": {},
   "outputs": [],
   "source": []
  },
  {
   "cell_type": "markdown",
   "id": "437a9bc2-ad70-4c24-853c-33beed308fa4",
   "metadata": {},
   "source": [
    "## Q2. Differentiate between Abstraction and Encapsulation. Explain with an example."
   ]
  },
  {
   "cell_type": "markdown",
   "id": "a595f317-8b19-4069-bb2e-51f59c519504",
   "metadata": {},
   "source": [
    "## ANS"
   ]
  },
  {
   "cell_type": "markdown",
   "id": "76206ed5-dcd6-43ac-9fa4-c07ab11c1126",
   "metadata": {},
   "source": [
    "The abstraction and Encapsulation are two difrrent things which are implented for difrrent purpose.\n",
    "\n",
    "let's us first talk about abstraction\n",
    "In abstraction, we define a class with certain methods and pass it to other,then they inherit the class in their subclass , and they use the methods of parent class as per their requirement. In this processes , we first import abc and then @abc.abstractmethod with each methods of class seprately.so that abstraction can work fine\n",
    "\n",
    "\n",
    "\n",
    "where as Encapsulation are used to protect or private some of the instances that we don't give direct access to the user, so to hide that , we use the concept of encapsulation where we use '  .__ ' to private and '  ._ ' to secure instance"
   ]
  },
  {
   "cell_type": "markdown",
   "id": "978f9819-89d8-4e24-9668-fd8bfe1bbf38",
   "metadata": {},
   "source": [
    "let's see an example"
   ]
  },
  {
   "cell_type": "code",
   "execution_count": 43,
   "id": "9ee19978-f6fe-4813-af7f-a5560568207a",
   "metadata": {},
   "outputs": [],
   "source": [
    "import abc\n",
    "\n",
    "class Animal:\n",
    "    @abc.abstractmethod\n",
    "    def speak(self):\n",
    "        pass\n",
    "    @abc.abstractmethod\n",
    "    def sleep(self):\n",
    "        pass\n",
    "    @abc.abstractmethod\n",
    "    def __init__(self, colour, weight):\n",
    "        self.__colour=colour\n",
    "        self.weight=weight"
   ]
  },
  {
   "cell_type": "code",
   "execution_count": 46,
   "id": "30f362f1-c65f-4722-96d9-acb0726b1cbd",
   "metadata": {},
   "outputs": [],
   "source": [
    "class Dog(Animal):\n",
    "     \n",
    "    def speak(self):\n",
    "        return 'woof'\n",
    "    def sleep(self):\n",
    "        return 'the dog is sleeping'\n",
    "    "
   ]
  },
  {
   "cell_type": "code",
   "execution_count": 49,
   "id": "551dff3d-ef55-4cf1-af90-c6287e4823e1",
   "metadata": {},
   "outputs": [],
   "source": [
    "DOG=Dog(23,34)"
   ]
  },
  {
   "cell_type": "code",
   "execution_count": 50,
   "id": "73791f53-7342-4858-8051-bf169ef92dc4",
   "metadata": {},
   "outputs": [
    {
     "data": {
      "text/plain": [
       "'the dog is sleeping'"
      ]
     },
     "execution_count": 50,
     "metadata": {},
     "output_type": "execute_result"
    }
   ],
   "source": [
    "DOG.sleep()"
   ]
  },
  {
   "cell_type": "code",
   "execution_count": 51,
   "id": "0b6c9de5-4b0e-4a73-840e-69490a60c8d3",
   "metadata": {},
   "outputs": [
    {
     "data": {
      "text/plain": [
       "'woof'"
      ]
     },
     "execution_count": 51,
     "metadata": {},
     "output_type": "execute_result"
    }
   ],
   "source": [
    "DOG.speak()"
   ]
  },
  {
   "cell_type": "code",
   "execution_count": 53,
   "id": "b7f9369b-4d1f-4f06-ab24-760789eaac94",
   "metadata": {},
   "outputs": [
    {
     "data": {
      "text/plain": [
       "34"
      ]
     },
     "execution_count": 53,
     "metadata": {},
     "output_type": "execute_result"
    }
   ],
   "source": [
    "DOG.weight"
   ]
  },
  {
   "cell_type": "code",
   "execution_count": 54,
   "id": "a067424d-ebcb-417e-8919-5c869db253fa",
   "metadata": {},
   "outputs": [
    {
     "ename": "AttributeError",
     "evalue": "'Dog' object has no attribute 'colour'",
     "output_type": "error",
     "traceback": [
      "\u001b[0;31m---------------------------------------------------------------------------\u001b[0m",
      "\u001b[0;31mAttributeError\u001b[0m                            Traceback (most recent call last)",
      "Cell \u001b[0;32mIn[54], line 1\u001b[0m\n\u001b[0;32m----> 1\u001b[0m \u001b[43mDOG\u001b[49m\u001b[38;5;241;43m.\u001b[39;49m\u001b[43mcolour\u001b[49m\n",
      "\u001b[0;31mAttributeError\u001b[0m: 'Dog' object has no attribute 'colour'"
     ]
    }
   ],
   "source": [
    "DOG.colour"
   ]
  },
  {
   "cell_type": "markdown",
   "id": "cbf1826a-6125-428e-8d86-d49f81390c20",
   "metadata": {},
   "source": [
    "hence , in the above example , we saw the case of abstraction and encapsulation, the instance 'colour ' was encapsulated while 'weight ' was not, so when we inherited Animal class to Dog class, and while taking the object of DOG class, we put colour and weight as their arguments. but while calling colur, there was error in console showing 'Dog' object has no attribute 'colour'"
   ]
  },
  {
   "cell_type": "code",
   "execution_count": null,
   "id": "dde8cbf4-15fb-4711-ab69-e3361e4c6c24",
   "metadata": {},
   "outputs": [],
   "source": []
  },
  {
   "cell_type": "code",
   "execution_count": null,
   "id": "bfe269a3-809b-46ea-b424-a833fe13b845",
   "metadata": {},
   "outputs": [],
   "source": []
  },
  {
   "cell_type": "markdown",
   "id": "f11c2258-b583-47b1-89fc-60afcb5258e9",
   "metadata": {},
   "source": [
    "## Q3. What is abc module in python? Why is it used?"
   ]
  },
  {
   "cell_type": "code",
   "execution_count": null,
   "id": "3953d848-0b85-4b1c-a7b7-f1c35942b974",
   "metadata": {},
   "outputs": [],
   "source": []
  },
  {
   "cell_type": "code",
   "execution_count": null,
   "id": "6d4d715c-a90e-4692-82b4-5271ebd2e5c3",
   "metadata": {},
   "outputs": [],
   "source": []
  },
  {
   "cell_type": "markdown",
   "id": "ab3181c1-3551-4e46-a8c2-1367fa2f163a",
   "metadata": {},
   "source": [
    "## ANS"
   ]
  },
  {
   "cell_type": "markdown",
   "id": "a38f3e4c-803f-46aa-954c-b6f9bc1014d5",
   "metadata": {},
   "source": [
    "### Abstract base classes allows us to define a common interface that a group of classes should adhere to. This helps us to establish a contract for subclasses, ensuring they implement certain methods or properties.\n",
    "    \n",
    "   ### By defining a common interface, we can achieve polymorphism, which allows us to write code that works with objects of different classes as long as they conform to the same abstract base class."
   ]
  },
  {
   "cell_type": "code",
   "execution_count": null,
   "id": "f089bfbd-fe4a-4d18-9af5-e9bdcb75ee22",
   "metadata": {},
   "outputs": [],
   "source": []
  },
  {
   "cell_type": "code",
   "execution_count": null,
   "id": "8345508a-8f4f-48f1-87e2-fc319639ea95",
   "metadata": {},
   "outputs": [],
   "source": []
  },
  {
   "cell_type": "markdown",
   "id": "36c3ce36-8376-40b8-aeb4-7eb442d3b4bf",
   "metadata": {},
   "source": [
    "###  Q4. How can we achieve data abstraction?"
   ]
  },
  {
   "cell_type": "markdown",
   "id": "df59d843-89cd-42ba-9b5c-5ba07c7f84ad",
   "metadata": {},
   "source": [
    "### ANS\n",
    "we can achieve data abstraction bye creating a class and then encapsulationg ssome of it's instance to hide the variable from access to user.\n",
    "\n",
    "let's understand with the banking example"
   ]
  },
  {
   "cell_type": "code",
   "execution_count": 7,
   "id": "039d1594-9c71-455d-9594-b2618f76f5f2",
   "metadata": {},
   "outputs": [],
   "source": [
    "class BankAccount :\n",
    "    \n",
    "    def __init__(self, account_holder,account_number,balance):\n",
    "        self.__account_holder=account_holder\n",
    "        self.__account_number=account_number\n",
    "        self.__balance=balance\n",
    "        \n",
    "        \n",
    "    def deposit(self, amount):\n",
    "        self.__balance=self.__balance+amount\n",
    "        \n",
    "    def get_balance(self):\n",
    "        return self.__balance\n",
    "        \n",
    "    def withdraw(self,amount):\n",
    "        if amount >= self.__balance:\n",
    "            print('insufficent balance')\n",
    "   \n",
    "            \n",
    "        else :\n",
    "            self.__balance=self.__balance-amount\n",
    "            print('money taken out')\n",
    "        "
   ]
  },
  {
   "cell_type": "code",
   "execution_count": 8,
   "id": "c706074e-96c9-414c-9dbe-0184a0687c15",
   "metadata": {},
   "outputs": [],
   "source": [
    "SBI_bank=BankAccount('nasim',23484838,1200)"
   ]
  },
  {
   "cell_type": "code",
   "execution_count": 9,
   "id": "fcae64fe-0728-4d5a-a924-0ca5cc03a00f",
   "metadata": {},
   "outputs": [],
   "source": [
    "SBI_bank.deposit(1800)"
   ]
  },
  {
   "cell_type": "code",
   "execution_count": 10,
   "id": "d974b128-33fa-4e39-89b8-0913856c0b49",
   "metadata": {},
   "outputs": [
    {
     "data": {
      "text/plain": [
       "3000"
      ]
     },
     "execution_count": 10,
     "metadata": {},
     "output_type": "execute_result"
    }
   ],
   "source": [
    "SBI_bank.get_balance()"
   ]
  },
  {
   "cell_type": "code",
   "execution_count": 11,
   "id": "1f3cd5f5-45d6-4531-9690-8d579116a42b",
   "metadata": {},
   "outputs": [
    {
     "name": "stdout",
     "output_type": "stream",
     "text": [
      "insufficent balance\n"
     ]
    }
   ],
   "source": [
    "SBI_bank.withdraw(4000)"
   ]
  },
  {
   "cell_type": "code",
   "execution_count": 12,
   "id": "56a1e81f-7e0a-48d8-9e6b-298e5c5edf8c",
   "metadata": {},
   "outputs": [
    {
     "name": "stdout",
     "output_type": "stream",
     "text": [
      "money taken out\n"
     ]
    }
   ],
   "source": [
    "SBI_bank.withdraw(1800)"
   ]
  },
  {
   "cell_type": "code",
   "execution_count": null,
   "id": "d0a27c72-048e-4012-980e-f2f47e418635",
   "metadata": {},
   "outputs": [],
   "source": []
  },
  {
   "cell_type": "code",
   "execution_count": null,
   "id": "98320cfd-3be0-453e-bc54-1c53b5fa1680",
   "metadata": {},
   "outputs": [],
   "source": []
  },
  {
   "cell_type": "markdown",
   "id": "eca93b15-872b-463b-8ce5-955e860394fe",
   "metadata": {},
   "source": [
    "### Q5. Can we create an instance of an abstract class? Explain your answer."
   ]
  },
  {
   "cell_type": "markdown",
   "id": "a5c2fb9f-1ae5-48e2-9dad-1ced7c34e31c",
   "metadata": {},
   "source": [
    "### ANS\n",
    "\n"
   ]
  }
 ],
 "metadata": {
  "kernelspec": {
   "display_name": "Python 3 (ipykernel)",
   "language": "python",
   "name": "python3"
  },
  "language_info": {
   "codemirror_mode": {
    "name": "ipython",
    "version": 3
   },
   "file_extension": ".py",
   "mimetype": "text/x-python",
   "name": "python",
   "nbconvert_exporter": "python",
   "pygments_lexer": "ipython3",
   "version": "3.10.8"
  }
 },
 "nbformat": 4,
 "nbformat_minor": 5
}
