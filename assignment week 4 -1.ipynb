{
 "cells": [
  {
   "cell_type": "markdown",
   "id": "c4710ab1-34db-457b-8c8a-20f82763ded0",
   "metadata": {},
   "source": [
    "## Q1, Create a vehicle class with an init method having instance variables as name_of_vehicle, max_speed and average_of_vehicle. "
   ]
  },
  {
   "cell_type": "code",
   "execution_count": null,
   "id": "66d8b97a-a95f-4456-ab89-b5877375c1f4",
   "metadata": {},
   "outputs": [],
   "source": []
  },
  {
   "cell_type": "markdown",
   "id": "3ecd872c-c4c6-4e12-859a-74f008947e2d",
   "metadata": {},
   "source": [
    "## ANS"
   ]
  },
  {
   "cell_type": "markdown",
   "id": "cb855acc-b4ab-484b-89bb-ee5acb0591a4",
   "metadata": {},
   "source": [
    "Let's create class that is blueprint which will be the class of vechile by considering it feautres or charcters as methods.\n",
    "we will use 'self' pointer to link methods to the class, we will also '__init__' function to take input "
   ]
  },
  {
   "cell_type": "code",
   "execution_count": 16,
   "id": "c60108fc-1f03-4bef-aa2b-8b41e32e9429",
   "metadata": {},
   "outputs": [],
   "source": [
    "class Vechile :\n",
    "    \n",
    "    def __init__(self,vechile_name,maximum_speed,average):\n",
    "        self.name_of_vechile=vechile_name\n",
    "        self.max_speed=maximum_speed\n",
    "        self.average_of_vechile=average\n",
    "    \n",
    "    def return_details(self):\n",
    "        return self.name_of_vechile,self.max_speed,self.average_of_vechile"
   ]
  },
  {
   "cell_type": "markdown",
   "id": "ebed9b1f-06ca-4bb6-8657-e1d50bb75706",
   "metadata": {},
   "source": [
    "let us take an object of the class"
   ]
  },
  {
   "cell_type": "code",
   "execution_count": 11,
   "id": "353aac4e-3eb7-4a3b-9c12-f6a0c9a53207",
   "metadata": {},
   "outputs": [],
   "source": [
    "lamborgini=Vechile('lambo','100 kmph','50km')"
   ]
  },
  {
   "cell_type": "code",
   "execution_count": 12,
   "id": "014ef761-eaad-4c6c-b792-89ee7ce7d21f",
   "metadata": {},
   "outputs": [
    {
     "data": {
      "text/plain": [
       "('lambo', '100 kmph', '50km')"
      ]
     },
     "execution_count": 12,
     "metadata": {},
     "output_type": "execute_result"
    }
   ],
   "source": [
    "lamborgini.return_details()"
   ]
  },
  {
   "cell_type": "code",
   "execution_count": 13,
   "id": "9eb00a33-4455-43a1-a03b-37541cc57fd7",
   "metadata": {},
   "outputs": [
    {
     "data": {
      "text/plain": [
       "'lambo'"
      ]
     },
     "execution_count": 13,
     "metadata": {},
     "output_type": "execute_result"
    }
   ],
   "source": [
    "lamborgini.name_of_vechile"
   ]
  },
  {
   "cell_type": "code",
   "execution_count": 14,
   "id": "88c806fd-990c-4f92-abbd-373c28b2baf7",
   "metadata": {},
   "outputs": [
    {
     "data": {
      "text/plain": [
       "'lambo'"
      ]
     },
     "execution_count": 14,
     "metadata": {},
     "output_type": "execute_result"
    }
   ],
   "source": [
    "lamborgini.name_of_vechile"
   ]
  },
  {
   "cell_type": "code",
   "execution_count": 15,
   "id": "6421fb77-af43-475e-b00f-7cd776364f18",
   "metadata": {},
   "outputs": [
    {
     "data": {
      "text/plain": [
       "'50km'"
      ]
     },
     "execution_count": 15,
     "metadata": {},
     "output_type": "execute_result"
    }
   ],
   "source": [
    "lamborgini.average_of_vechile"
   ]
  },
  {
   "cell_type": "code",
   "execution_count": null,
   "id": "b063e351-1c4f-463c-bb3b-94e29ef17882",
   "metadata": {},
   "outputs": [],
   "source": []
  },
  {
   "cell_type": "code",
   "execution_count": null,
   "id": "5993f4d3-0ab5-4dc2-961e-743775134d98",
   "metadata": {},
   "outputs": [],
   "source": []
  },
  {
   "cell_type": "markdown",
   "id": "b12d8b73-23c7-460c-8aa5-bca3a6697e6d",
   "metadata": {},
   "source": [
    "Q2.  Create a child class car from the vehicle class created in Que 1, which will inherit the vehicle class. \n",
    "Create a method named seating_capacity which takes capacity as an argument and returns the name of \n",
    "the vehicle and its seating capacity."
   ]
  },
  {
   "cell_type": "markdown",
   "id": "75a0feab-797c-4399-8f26-10f0304df0e3",
   "metadata": {},
   "source": [
    "## ANS"
   ]
  },
  {
   "cell_type": "markdown",
   "id": "cbaf5042-df1d-414f-b8d5-04165f94f277",
   "metadata": {},
   "source": [
    "In this question , we have to use the property of inheritence as we have to use the methods of Vechile class that is parent class where child class will inherit the method"
   ]
  },
  {
   "cell_type": "code",
   "execution_count": 17,
   "id": "63072603-c615-426e-8f51-d1d969425cb4",
   "metadata": {},
   "outputs": [],
   "source": [
    "class car(Vechile):\n",
    "    \n",
    "    def seating_capacity(self,capacity):\n",
    "        return  f\"{self.name_of_vechile} has a seating capacity of {capacity}\""
   ]
  },
  {
   "cell_type": "code",
   "execution_count": 19,
   "id": "08babf90-1bf9-4e6f-954c-8af3688eb75d",
   "metadata": {},
   "outputs": [],
   "source": [
    "BMW_car=car('BMW 2021','200KMPH','100KMPL')"
   ]
  },
  {
   "cell_type": "code",
   "execution_count": 22,
   "id": "6d9a2a39-3714-459f-8476-7d0c36c740cd",
   "metadata": {},
   "outputs": [
    {
     "data": {
      "text/plain": [
       "'BMW 2021 has a seating capacity of 50'"
      ]
     },
     "execution_count": 22,
     "metadata": {},
     "output_type": "execute_result"
    }
   ],
   "source": [
    "BMW_car.seating_capacity(50)"
   ]
  },
  {
   "cell_type": "code",
   "execution_count": 23,
   "id": "bce0aad9-8375-42f5-bec9-21322bcb97e9",
   "metadata": {},
   "outputs": [
    {
     "data": {
      "text/plain": [
       "('BMW 2021', '200KMPH', '100KMPL')"
      ]
     },
     "execution_count": 23,
     "metadata": {},
     "output_type": "execute_result"
    }
   ],
   "source": [
    "BMW_car.return_details()"
   ]
  },
  {
   "cell_type": "code",
   "execution_count": null,
   "id": "03e012eb-9cad-475f-a8b2-4d6abd71d95d",
   "metadata": {},
   "outputs": [],
   "source": []
  },
  {
   "cell_type": "code",
   "execution_count": null,
   "id": "766ca454-b20d-4263-964d-b2cc624d3eaa",
   "metadata": {},
   "outputs": [],
   "source": []
  },
  {
   "cell_type": "code",
   "execution_count": null,
   "id": "ffef25dd-c103-45ea-9f70-b186b834c4ae",
   "metadata": {},
   "outputs": [],
   "source": []
  },
  {
   "cell_type": "markdown",
   "id": "dd3bd1a5-0e0d-463b-aab4-98ac88811445",
   "metadata": {},
   "source": [
    "## Q3. What is multiple inheritance? Write a python code to demonstrate multiple inheritance."
   ]
  },
  {
   "cell_type": "markdown",
   "id": "401563a8-e82a-459c-9830-0afb3be04699",
   "metadata": {},
   "source": [
    "## ANS"
   ]
  },
  {
   "cell_type": "markdown",
   "id": "11486b86-6a9a-4432-943d-fbb806ed402b",
   "metadata": {},
   "source": [
    "Multipe inheritence is part of heritence where child class gets methods or property from more than parents.\n",
    "for example we have father class , mother class seprately, but in the child class , we will derive methods or instances from both the class.\n",
    "let us understand better by executing some code related to class"
   ]
  },
  {
   "cell_type": "code",
   "execution_count": 34,
   "id": "7bc7daad-4ae4-4c25-9694-a0425a9aea89",
   "metadata": {},
   "outputs": [],
   "source": [
    "class father:\n",
    "    def earn_money(self):\n",
    "        print('my father earns money')\n",
    "        \n",
    "    def educate_child(self):\n",
    "        \n",
    "        print('my father educate me')"
   ]
  },
  {
   "cell_type": "code",
   "execution_count": 35,
   "id": "1eb1602c-bef2-41f5-ae54-b0068cd15172",
   "metadata": {},
   "outputs": [],
   "source": [
    "class mother :\n",
    "     def cooks_food(self):\n",
    "            print('my mom is great cook')\n",
    "            "
   ]
  },
  {
   "cell_type": "code",
   "execution_count": 37,
   "id": "32a146cf-edf4-4773-8c43-11dce889db7d",
   "metadata": {},
   "outputs": [],
   "source": [
    "class child(father,mother):\n",
    "    \n",
    "    def __init__(self,name,age):\n",
    "        self.name=name\n",
    "        self.age=age\n",
    "        \n",
    "    def return_child_details(self):\n",
    "        return self.name,self.age\n",
    "    "
   ]
  },
  {
   "cell_type": "code",
   "execution_count": 38,
   "id": "3f02ff37-428f-48fc-be91-d1bd13f032e6",
   "metadata": {},
   "outputs": [],
   "source": [
    "Nasim=child('Akram',22)"
   ]
  },
  {
   "cell_type": "code",
   "execution_count": 40,
   "id": "5c95098f-a9b3-43cc-9ce0-e49c7bb4963a",
   "metadata": {},
   "outputs": [
    {
     "data": {
      "text/plain": [
       "('Akram', 22)"
      ]
     },
     "execution_count": 40,
     "metadata": {},
     "output_type": "execute_result"
    }
   ],
   "source": [
    "Nasim.return_child_details()"
   ]
  },
  {
   "cell_type": "code",
   "execution_count": 42,
   "id": "a257f0ba-8d3c-41c0-91fe-060609eb166f",
   "metadata": {},
   "outputs": [
    {
     "data": {
      "text/plain": [
       "'Akram'"
      ]
     },
     "execution_count": 42,
     "metadata": {},
     "output_type": "execute_result"
    }
   ],
   "source": [
    "Nasim.name"
   ]
  },
  {
   "cell_type": "code",
   "execution_count": 43,
   "id": "950cb334-0141-4453-acb5-df2cea35e14e",
   "metadata": {},
   "outputs": [
    {
     "name": "stdout",
     "output_type": "stream",
     "text": [
      "my mom is great cook\n"
     ]
    }
   ],
   "source": [
    "Nasim.cooks_food()"
   ]
  },
  {
   "cell_type": "code",
   "execution_count": 44,
   "id": "4d7f4f1f-4c23-4385-8667-6d51bf36206f",
   "metadata": {},
   "outputs": [
    {
     "name": "stdout",
     "output_type": "stream",
     "text": [
      "my father earns money\n"
     ]
    }
   ],
   "source": [
    "Nasim.earn_money()"
   ]
  },
  {
   "cell_type": "code",
   "execution_count": 45,
   "id": "f5a84dc3-a56a-4cd8-9cdd-35c56d0f522e",
   "metadata": {},
   "outputs": [
    {
     "name": "stdout",
     "output_type": "stream",
     "text": [
      "my father educate me\n"
     ]
    }
   ],
   "source": [
    "Nasim.educate_child()"
   ]
  },
  {
   "cell_type": "markdown",
   "id": "43c76db0-85e6-4b16-a6f3-6c419d89538e",
   "metadata": {},
   "source": [
    "we can clearly see that even though we did not have methods in the child class like 'earn_money' ,'educate_child' etc. but still we had access th these methods which were part of mother and father class.\n",
    "\n",
    "hence these kinds of inheritence are known as multiple inheritence"
   ]
  },
  {
   "cell_type": "code",
   "execution_count": null,
   "id": "eaa6f04c-cf4f-46fd-baba-07f3005ae2b0",
   "metadata": {},
   "outputs": [],
   "source": []
  },
  {
   "cell_type": "code",
   "execution_count": null,
   "id": "2870cc32-35cd-44dc-96b0-3ff5c3cdeae9",
   "metadata": {},
   "outputs": [],
   "source": []
  },
  {
   "cell_type": "markdown",
   "id": "bc2d83e5-4da1-4c34-aea9-42e761607a93",
   "metadata": {},
   "source": [
    "## Q4. What are getter and setter in python? Create a class and create a getter and a setter method in this class."
   ]
  },
  {
   "cell_type": "markdown",
   "id": "9a6143cb-f6bb-49e3-a039-6ba5205f80b6",
   "metadata": {},
   "source": [
    "ANS:-"
   ]
  },
  {
   "cell_type": "markdown",
   "id": "a1062d76-1990-4f72-9b69-da6c89d7b427",
   "metadata": {},
   "source": [
    "getter and setters are the the methods  that are used to have access to the instances that are encapsulated, we basically use these to modify the value of instances to which we can not directly have accesses to that"
   ]
  },
  {
   "cell_type": "code",
   "execution_count": 5,
   "id": "2c88a507-383c-4013-905d-ea7437133799",
   "metadata": {},
   "outputs": [
    {
     "name": "stdout",
     "output_type": "stream",
     "text": [
      "Mileage: 5000\n",
      "Mileage cannot be negative.\n"
     ]
    }
   ],
   "source": [
    "class Car:\n",
    "    def __init__(self, make, model, year):\n",
    "        self.make = make\n",
    "        self.model = model\n",
    "        self.year = year\n",
    "        self.__mileage = 0  # Private attribute\n",
    "\n",
    "    def get_mileage(self):\n",
    "        return self.__mileage\n",
    "\n",
    "    def set_mileage(self, mileage):\n",
    "        if mileage >= 0:\n",
    "            self.__mileage = mileage\n",
    "        else:\n",
    "            print(\"Mileage cannot be negative.\")\n",
    "\n",
    "    def display_info(self):\n",
    "        print(f\"Make: {self.make}, Model: {self.model}, Year: {self.year}, Mileage: {self.__mileage}\")\n",
    "\n",
    "# Creating a car object\n",
    "my_car = Car(\"Toyota\", \"Camry\", 2020)\n",
    "\n",
    "# Using the getter and setter\n",
    "my_car.set_mileage(5000)\n",
    "print(f\"Mileage: {my_car.get_mileage()}\")\n",
    "\n",
    "my_car.set_mileage(-1000)  # This will print an error message\n"
   ]
  },
  {
   "cell_type": "code",
   "execution_count": null,
   "id": "e099b483-d562-4480-9684-4f234201638f",
   "metadata": {},
   "outputs": [],
   "source": []
  },
  {
   "cell_type": "code",
   "execution_count": null,
   "id": "3325dd66-8631-4e8f-8603-8dda63cc4365",
   "metadata": {},
   "outputs": [],
   "source": []
  },
  {
   "cell_type": "markdown",
   "id": "6cb90870-1c02-42e9-97c7-760b45e06e72",
   "metadata": {},
   "source": [
    "## Q5.What is method overriding in python? Write a python code to demonstrate method overriding."
   ]
  },
  {
   "cell_type": "markdown",
   "id": "a379dca1-45d8-4061-8e04-48d1349b8989",
   "metadata": {},
   "source": [
    "## ANS"
   ]
  },
  {
   "cell_type": "markdown",
   "id": "a27c6310-f62e-446b-9aad-09ec37e6881e",
   "metadata": {},
   "source": [
    "the concept of overiding is not directly given but we can still overide by using the concept of inheritence"
   ]
  },
  {
   "cell_type": "code",
   "execution_count": 9,
   "id": "070210db-7f1b-4657-b6f2-3efb6845cdca",
   "metadata": {},
   "outputs": [],
   "source": [
    "class toto :\n",
    "    \n",
    "    def mileage(self):\n",
    "        print('it is electric vechile, so we do not have to worry about mileage')"
   ]
  },
  {
   "cell_type": "code",
   "execution_count": 10,
   "id": "9b65a84d-c761-48e7-87a4-41695e44d3f6",
   "metadata": {},
   "outputs": [],
   "source": [
    "class hero(toto):\n",
    "    def mileage(self):\n",
    "        print('it is good and suitable bike for middle class when it comes to average')"
   ]
  },
  {
   "cell_type": "code",
   "execution_count": 11,
   "id": "958e6e25-96bb-44d2-8085-01f7ddfb8d48",
   "metadata": {},
   "outputs": [],
   "source": [
    "class bullet(toto):\n",
    "    def mileage(self):\n",
    "        print('it is royal bike , everyone can not afford to ride')"
   ]
  },
  {
   "cell_type": "code",
   "execution_count": 18,
   "id": "44a8e24a-5e3e-4de3-8b84-8dcea7ac839a",
   "metadata": {},
   "outputs": [],
   "source": [
    "t1=toto()\n",
    "h1=hero()\n",
    "b1=bullet()"
   ]
  },
  {
   "cell_type": "code",
   "execution_count": 17,
   "id": "d0858ec0-00ea-4450-8ba3-7fbf8914712e",
   "metadata": {},
   "outputs": [
    {
     "name": "stdout",
     "output_type": "stream",
     "text": [
      "it is electric vechile, so we do not have to worry about mileage\n"
     ]
    }
   ],
   "source": [
    "t1.mileage()"
   ]
  },
  {
   "cell_type": "code",
   "execution_count": 19,
   "id": "00361a98-fc45-43d0-a6d6-8efbe2da98f9",
   "metadata": {},
   "outputs": [
    {
     "name": "stdout",
     "output_type": "stream",
     "text": [
      "it is good and suitable bike for middle class when it comes to average\n"
     ]
    }
   ],
   "source": [
    "h1.mileage()"
   ]
  },
  {
   "cell_type": "code",
   "execution_count": 20,
   "id": "567be202-249d-44a3-b01b-24059dd52122",
   "metadata": {},
   "outputs": [
    {
     "name": "stdout",
     "output_type": "stream",
     "text": [
      "it is royal bike , everyone can not afford to ride\n"
     ]
    }
   ],
   "source": [
    "b1.mileage()"
   ]
  },
  {
   "cell_type": "code",
   "execution_count": null,
   "id": "994f0184-5359-4161-9c6a-92a6f2a1f2e6",
   "metadata": {},
   "outputs": [],
   "source": []
  }
 ],
 "metadata": {
  "kernelspec": {
   "display_name": "Python 3 (ipykernel)",
   "language": "python",
   "name": "python3"
  },
  "language_info": {
   "codemirror_mode": {
    "name": "ipython",
    "version": 3
   },
   "file_extension": ".py",
   "mimetype": "text/x-python",
   "name": "python",
   "nbconvert_exporter": "python",
   "pygments_lexer": "ipython3",
   "version": "3.10.6"
  }
 },
 "nbformat": 4,
 "nbformat_minor": 5
}
