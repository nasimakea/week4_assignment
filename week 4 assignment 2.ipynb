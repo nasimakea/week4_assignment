{
 "cells": [
  {
   "cell_type": "markdown",
   "id": "5f681670-0b49-40c2-8eb9-c6d173a36ecd",
   "metadata": {},
   "source": [
    "## Q1. Explain Class and Object with respect to Object-Oriented Programming. Give a suitable example."
   ]
  },
  {
   "cell_type": "markdown",
   "id": "34d2b3fb-1e47-4685-a7c3-eefc33c8a35c",
   "metadata": {},
   "source": [
    "## ANS"
   ]
  },
  {
   "cell_type": "markdown",
   "id": "ee0ba348-ecff-43f3-ab37-797710dbebc1",
   "metadata": {},
   "source": [
    "class is the blueprint or structre of how objects would be kept in class in object oriented programming. objects are nothing but instances of the class or sometimes we call it variable.\n",
    "class also consists of methods that is function which we associate it with the class using pointers such as 'self'"
   ]
  },
  {
   "cell_type": "markdown",
   "id": "538c7738-8f8e-4d50-9a5d-c63418ed70ae",
   "metadata": {},
   "source": [
    "Let's see an example "
   ]
  },
  {
   "cell_type": "code",
   "execution_count": 7,
   "id": "8ff662b0-0a1b-47ae-ae04-642ee0d9b9f8",
   "metadata": {},
   "outputs": [],
   "source": [
    "class BankAccount:\n",
    "    \n",
    "    def __init__(self, account_number,account_holder,balance):\n",
    "        self.account_number=account_number\n",
    "        self.account_holder=account_holder\n",
    "        self.__balance=balance\n",
    "        \n",
    "        \n",
    "    def deposit(self,amount):\n",
    "        self.__balance=self.__balance+amount\n",
    "        \n",
    "    def get_balance(self):\n",
    "        return self.__balance"
   ]
  },
  {
   "cell_type": "code",
   "execution_count": 3,
   "id": "f4ae529a-f44f-4c56-aa57-a21d215d49e5",
   "metadata": {},
   "outputs": [],
   "source": [
    "    SBI=BankAccount(348347574,'Nasim',400)"
   ]
  },
  {
   "cell_type": "code",
   "execution_count": 4,
   "id": "97e8d35f-3fa2-41a5-bab0-f8454122eb7a",
   "metadata": {},
   "outputs": [
    {
     "data": {
      "text/plain": [
       "'Nasim'"
      ]
     },
     "execution_count": 4,
     "metadata": {},
     "output_type": "execute_result"
    }
   ],
   "source": [
    "SBI.account_holder"
   ]
  },
  {
   "cell_type": "code",
   "execution_count": 5,
   "id": "51c9212f-56b8-4695-b4ae-0d5d13005a9e",
   "metadata": {},
   "outputs": [],
   "source": [
    "SBI.deposit(1000)"
   ]
  },
  {
   "cell_type": "code",
   "execution_count": 6,
   "id": "7792c723-0b5a-4543-993d-8e9a5a5c58b2",
   "metadata": {},
   "outputs": [
    {
     "data": {
      "text/plain": [
       "1400"
      ]
     },
     "execution_count": 6,
     "metadata": {},
     "output_type": "execute_result"
    }
   ],
   "source": [
    "SBI.get_balance()"
   ]
  },
  {
   "cell_type": "code",
   "execution_count": null,
   "id": "94322154-0c76-40ed-9c32-63e7a44d8c6f",
   "metadata": {},
   "outputs": [],
   "source": []
  },
  {
   "cell_type": "code",
   "execution_count": null,
   "id": "518f72b3-2f39-4580-b30e-24e2246cddb0",
   "metadata": {},
   "outputs": [],
   "source": []
  },
  {
   "cell_type": "markdown",
   "id": "1929324a-b3c9-4b4b-a537-f6b365115c14",
   "metadata": {},
   "source": [
    "## Q2. Name the four pillars of OOPs.\n"
   ]
  },
  {
   "cell_type": "markdown",
   "id": "33f5648d-4cde-4e4e-84dd-1837a3cb5f1e",
   "metadata": {},
   "source": [
    "## ANS"
   ]
  },
  {
   "cell_type": "markdown",
   "id": "f817c441-4a34-496e-b98a-2a853e01ecd5",
   "metadata": {},
   "source": [
    "The four pillars of polymorphism are Encapsulation , Inheritence, polymorphism and abstraction"
   ]
  },
  {
   "cell_type": "code",
   "execution_count": null,
   "id": "c80b1210-bf8d-42ff-864a-f919b03cf611",
   "metadata": {},
   "outputs": [],
   "source": []
  },
  {
   "cell_type": "code",
   "execution_count": null,
   "id": "dfa0dc41-fce1-46c6-9e43-35f5f99d73e6",
   "metadata": {},
   "outputs": [],
   "source": []
  },
  {
   "cell_type": "markdown",
   "id": "f642b349-573f-4183-8ad1-5666753de5a3",
   "metadata": {},
   "source": [
    "## Q3. Explain why the __init__() function is used. Give a suitable example."
   ]
  },
  {
   "cell_type": "markdown",
   "id": "d31e4fb5-387f-421d-8759-385dde46028d",
   "metadata": {},
   "source": [
    "## ANS"
   ]
  },
  {
   "cell_type": "markdown",
   "id": "2836589d-d162-48cb-a282-c8e82c45aa5f",
   "metadata": {},
   "source": [
    "We use __init__() function which is very often known as constructor because user can put paramter, it helps in formation of class and objects or instances,\n",
    "\n",
    "let's see an example to understand better"
   ]
  },
  {
   "cell_type": "code",
   "execution_count": 19,
   "id": "87c8e88b-1e0c-48a3-8440-b92b5ac6beda",
   "metadata": {},
   "outputs": [],
   "source": [
    "class dog :\n",
    "    def __init__(self,breed,sound,colour):\n",
    "        self.breed=breed\n",
    "        self.sound=sound\n",
    "        self.colour=colour\n",
    "        \n",
    "    def return_dog_info(self):\n",
    "        print(f'my dog is {self.breed}')"
   ]
  },
  {
   "cell_type": "code",
   "execution_count": 20,
   "id": "fbd5a774-8359-466b-b7fd-9841d477b346",
   "metadata": {},
   "outputs": [],
   "source": [
    "tommy=dog('German','bark','brown')"
   ]
  },
  {
   "cell_type": "code",
   "execution_count": 21,
   "id": "211e5b24-63bf-4524-bed6-1f43959105c5",
   "metadata": {},
   "outputs": [
    {
     "name": "stdout",
     "output_type": "stream",
     "text": [
      "my dog is German\n"
     ]
    }
   ],
   "source": [
    "tommy.return_dog_info()"
   ]
  },
  {
   "cell_type": "code",
   "execution_count": null,
   "id": "79d56b81-ebed-49b7-86e2-48df1f91e729",
   "metadata": {},
   "outputs": [],
   "source": []
  },
  {
   "cell_type": "code",
   "execution_count": null,
   "id": "0a808d3d-c744-4701-8b17-2619b3ff852c",
   "metadata": {},
   "outputs": [],
   "source": []
  },
  {
   "cell_type": "code",
   "execution_count": null,
   "id": "f691719d-3dcc-4640-b308-541ef2cd8789",
   "metadata": {},
   "outputs": [],
   "source": []
  },
  {
   "cell_type": "markdown",
   "id": "1f2c1916-5d0f-4760-b624-d9f9770f4700",
   "metadata": {},
   "source": [
    "## Q4. Why self is used in OOPs?"
   ]
  },
  {
   "cell_type": "markdown",
   "id": "4e09626d-4448-4106-b6b1-b1e7db13002f",
   "metadata": {},
   "source": [
    "## ANS"
   ]
  },
  {
   "cell_type": "markdown",
   "id": "aacd0a5b-390c-428e-bfd2-d623903b1af8",
   "metadata": {},
   "source": [
    "when we create a class in OOPS then in that class, we also create method, so to join the methods to the class we use 'self'. it is not convention, we can use anything instead of 'self'. but basically in industries  mostly 'self' is used"
   ]
  },
  {
   "cell_type": "code",
   "execution_count": null,
   "id": "fe9dcb5f-8124-4561-b1b2-6b279fab0877",
   "metadata": {},
   "outputs": [],
   "source": []
  },
  {
   "cell_type": "code",
   "execution_count": null,
   "id": "83b0e9c8-0e7d-41da-a228-66ff032f5fba",
   "metadata": {},
   "outputs": [],
   "source": []
  },
  {
   "cell_type": "markdown",
   "id": "93fb6b63-a12d-4a27-9c9e-b781ce0ad05b",
   "metadata": {},
   "source": [
    "## Q5. What is inheritance? Give an example for each type of inheritance"
   ]
  },
  {
   "cell_type": "markdown",
   "id": "47dd0ab4-5528-47d1-8c7a-b17ea4e91d1a",
   "metadata": {},
   "source": [
    "## ANS"
   ]
  },
  {
   "cell_type": "markdown",
   "id": "5dde7196-293d-4a03-9092-7784ac7aff70",
   "metadata": {},
   "source": [
    "In the OOPS , the concept of ineritence is used to derive methods or function from another class or parent class.\n",
    "to not make the code more complex or lenthy , we use the concept of inheritence .\n",
    "let us try to understand in detail with the help of example"
   ]
  },
  {
   "cell_type": "markdown",
   "id": "d9e46678-bb32-436f-a90c-6097943fc6ce",
   "metadata": {},
   "source": [
    "In question 1 , we had a class named BankAccount, let's consider that as the parent class"
   ]
  },
  {
   "cell_type": "code",
   "execution_count": 22,
   "id": "bd1b38f0-ad97-4f45-b71f-be3f03a46f6f",
   "metadata": {},
   "outputs": [
    {
     "ename": "SyntaxError",
     "evalue": "invalid syntax (395443187.py, line 5)",
     "output_type": "error",
     "traceback": [
      "\u001b[0;36m  Cell \u001b[0;32mIn [22], line 5\u001b[0;36m\u001b[0m\n\u001b[0;31m    return self.__balance=self.__balance-amount\u001b[0m\n\u001b[0m                         ^\u001b[0m\n\u001b[0;31mSyntaxError\u001b[0m\u001b[0;31m:\u001b[0m invalid syntax\n"
     ]
    }
   ],
   "source": [
    "class Cash_out(BankAccount):\n",
    "    def withdraw_money(self,amount):\n",
    "        self.amount=amount\n",
    "        if self.__balance> amount:\n",
    "            return self.__balance=self.__balance-amount\n",
    "            \n",
    "            \n",
    "        else :\n",
    "            print('false')"
   ]
  },
  {
   "cell_type": "code",
   "execution_count": 18,
   "id": "8c4ab3be-06bc-42f3-8fe6-64c8d0c7618d",
   "metadata": {},
   "outputs": [],
   "source": [
    "nasim=Cash_out(3848584,'akram',4000)"
   ]
  },
  {
   "cell_type": "code",
   "execution_count": 19,
   "id": "6ce3a733-d7bc-4941-b438-bab887110ef6",
   "metadata": {},
   "outputs": [],
   "source": [
    "nasim.deposit(5000)"
   ]
  },
  {
   "cell_type": "code",
   "execution_count": 20,
   "id": "ee4eb667-5816-4832-959f-f8f91742c197",
   "metadata": {},
   "outputs": [
    {
     "data": {
      "text/plain": [
       "9000"
      ]
     },
     "execution_count": 20,
     "metadata": {},
     "output_type": "execute_result"
    }
   ],
   "source": [
    "nasim.get_balance()"
   ]
  },
  {
   "cell_type": "code",
   "execution_count": 21,
   "id": "a5ac4bc7-214c-4bb3-b383-379ebf648d56",
   "metadata": {},
   "outputs": [
    {
     "ename": "AttributeError",
     "evalue": "'Cash_out' object has no attribute '_Cash_out__balance'",
     "output_type": "error",
     "traceback": [
      "\u001b[0;31m---------------------------------------------------------------------------\u001b[0m",
      "\u001b[0;31mAttributeError\u001b[0m                            Traceback (most recent call last)",
      "Cell \u001b[0;32mIn [21], line 1\u001b[0m\n\u001b[0;32m----> 1\u001b[0m \u001b[43mnasim\u001b[49m\u001b[38;5;241;43m.\u001b[39;49m\u001b[43mwithdraw_money\u001b[49m\u001b[43m(\u001b[49m\u001b[38;5;241;43m400\u001b[39;49m\u001b[43m)\u001b[49m\n",
      "Cell \u001b[0;32mIn [17], line 4\u001b[0m, in \u001b[0;36mCash_out.withdraw_money\u001b[0;34m(self, amount)\u001b[0m\n\u001b[1;32m      2\u001b[0m \u001b[38;5;28;01mdef\u001b[39;00m \u001b[38;5;21mwithdraw_money\u001b[39m(\u001b[38;5;28mself\u001b[39m,amount):\n\u001b[1;32m      3\u001b[0m     \u001b[38;5;28mself\u001b[39m\u001b[38;5;241m.\u001b[39mamount\u001b[38;5;241m=\u001b[39mamount\n\u001b[0;32m----> 4\u001b[0m     \u001b[38;5;28;01mif\u001b[39;00m amount\u001b[38;5;241m>\u001b[39m \u001b[38;5;28;43mself\u001b[39;49m\u001b[38;5;241;43m.\u001b[39;49m\u001b[43m__balance\u001b[49m :\n\u001b[1;32m      5\u001b[0m         \u001b[38;5;28mprint\u001b[39m(\u001b[38;5;124m'\u001b[39m\u001b[38;5;124minsufficient balance\u001b[39m\u001b[38;5;124m'\u001b[39m)\n\u001b[1;32m      7\u001b[0m     \u001b[38;5;28;01melse\u001b[39;00m :\n",
      "\u001b[0;31mAttributeError\u001b[0m: 'Cash_out' object has no attribute '_Cash_out__balance'"
     ]
    }
   ],
   "source": [
    "nasim.withdraw_money(400)"
   ]
  },
  {
   "cell_type": "code",
   "execution_count": null,
   "id": "63950c5a-d554-4963-9f9b-a903ef1e2fc0",
   "metadata": {},
   "outputs": [],
   "source": []
  }
 ],
 "metadata": {
  "kernelspec": {
   "display_name": "Python 3 (ipykernel)",
   "language": "python",
   "name": "python3"
  },
  "language_info": {
   "codemirror_mode": {
    "name": "ipython",
    "version": 3
   },
   "file_extension": ".py",
   "mimetype": "text/x-python",
   "name": "python",
   "nbconvert_exporter": "python",
   "pygments_lexer": "ipython3",
   "version": "3.10.6"
  }
 },
 "nbformat": 4,
 "nbformat_minor": 5
}
